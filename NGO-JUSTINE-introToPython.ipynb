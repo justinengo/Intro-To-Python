{
 "cells": [
  {
   "cell_type": "markdown",
   "id": "c3243ba9",
   "metadata": {},
   "source": [
    "203653  \n",
    "Ngo  \n",
    "2 BS ITE"
   ]
  },
  {
   "cell_type": "code",
   "execution_count": 9,
   "id": "db3c0cd1",
   "metadata": {},
   "outputs": [
    {
     "name": "stdout",
     "output_type": "stream",
     "text": [
      "Enter first number 2\n",
      "Enter second number 3\n",
      "Enter third number 4\n"
     ]
    },
    {
     "data": {
      "text/plain": [
       "'The average is 3.0'"
      ]
     },
     "execution_count": 9,
     "metadata": {},
     "output_type": "execute_result"
    }
   ],
   "source": [
    "def three_number_average (first, second, third):\n",
    "    first = int(input(\"Enter first number \"))\n",
    "    second = int(input(\"Enter second number \"))\n",
    "    third = int(input(\"Enter third number \"))\n",
    "    average = (first + second + third) / 3\n",
    "    return \"The average is \" + str(average)\n",
    "three_number_average (first, second, third)"
   ]
  },
  {
   "cell_type": "code",
   "execution_count": null,
   "id": "30402b2a",
   "metadata": {},
   "outputs": [],
   "source": []
  },
  {
   "cell_type": "code",
   "execution_count": null,
   "id": "e9733784",
   "metadata": {},
   "outputs": [],
   "source": []
  },
  {
   "cell_type": "code",
   "execution_count": null,
   "id": "a826917e",
   "metadata": {},
   "outputs": [],
   "source": []
  }
 ],
 "metadata": {
  "kernelspec": {
   "display_name": "Python 3",
   "language": "python",
   "name": "python3"
  },
  "language_info": {
   "codemirror_mode": {
    "name": "ipython",
    "version": 3
   },
   "file_extension": ".py",
   "mimetype": "text/x-python",
   "name": "python",
   "nbconvert_exporter": "python",
   "pygments_lexer": "ipython3",
   "version": "3.8.8"
  }
 },
 "nbformat": 4,
 "nbformat_minor": 5
}
